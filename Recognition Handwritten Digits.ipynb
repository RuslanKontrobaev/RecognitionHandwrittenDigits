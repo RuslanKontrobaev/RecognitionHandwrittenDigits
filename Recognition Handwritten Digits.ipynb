{
  "cells": [
    {
      "cell_type": "markdown",
      "source": [
        "# Библиотеки"
      ],
      "metadata": {
        "id": "L9GH4HCUSqyY"
      }
    },
    {
      "cell_type": "code",
      "source": [
        "import numpy\n",
        "import scipy.special # библиотека scipy.special содержит сигмоиду expit()\n",
        "import matplotlib.pyplot # библиотека для графического отображения массивов\n",
        "import imageio\n",
        "import glob\n",
        "\n",
        "%matplotlib inline"
      ],
      "metadata": {
        "id": "TgBKWeQhOPJ8"
      },
      "execution_count": 51,
      "outputs": []
    },
    {
      "cell_type": "code",
      "source": [
        "from google.colab import drive\n",
        "drive.mount('/content/drive', force_remount=True)"
      ],
      "metadata": {
        "colab": {
          "base_uri": "https://localhost:8080/"
        },
        "id": "aDeW4AyoUBO7",
        "outputId": "936aade6-4925-4d9a-8398-b985da6a7411"
      },
      "execution_count": 52,
      "outputs": [
        {
          "output_type": "stream",
          "name": "stdout",
          "text": [
            "Mounted at /content/drive\n"
          ]
        }
      ]
    },
    {
      "cell_type": "markdown",
      "source": [
        "# Класс нейронной сети"
      ],
      "metadata": {
        "id": "EflEqsyaSpEm"
      }
    },
    {
      "cell_type": "code",
      "execution_count": 53,
      "metadata": {
        "id": "kztKTzdpbX1s"
      },
      "outputs": [],
      "source": [
        "class neuralNetwork:\n",
        "\n",
        "    def __init__(self, num_nodes_in_layers, learning_rate):\n",
        "        self.num_nodes_in_layers = num_nodes_in_layers\n",
        "        self.learning_rate = learning_rate\n",
        "        self.activation_function = lambda x: scipy.special.expit(x)\n",
        "\n",
        "        self.weights = []\n",
        "        for layer in range(len(self.num_nodes_in_layers) - 1):\n",
        "            cols = self.num_nodes_in_layers[layer + 1]\n",
        "            rows = self.num_nodes_in_layers[layer]\n",
        "            weight = numpy.random.rand(cols, rows) - 0.5\n",
        "            self.weights.append(weight)\n",
        "\n",
        "\n",
        "    def train(self, inputs, target):\n",
        "        inputs = numpy.array(inputs, ndmin=2).T\n",
        "        target = numpy.array(target, ndmin=2).T\n",
        "        \n",
        "        # ПРЯМОЕ РАСПРОСТРАНЕНИЕ\n",
        "        list_outputs = [] # Список всех выходных значений для обратного распространения\n",
        "        list_outputs.append(inputs)\n",
        "        output = inputs\n",
        "        for layer in range(1, len(self.num_nodes_in_layers)):\n",
        "            input = numpy.dot(self.weights[layer - 1], output)\n",
        "            output =  self.activation_function(input)\n",
        "            list_outputs.append(output)\n",
        "\n",
        "        output_error = target - output # ошибка выходного слоя = (целевое значение - фактическое значение)\n",
        "\n",
        "        # ОБРАТНОЕ РАСПРОСТРАНЕНИЕ\n",
        "        layer_errors = [] # Список ошибок всех слоев\n",
        "        layer_errors.append(output_error)\n",
        "        cur_error = output_error\n",
        "        for layer in range(len(self.num_nodes_in_layers) - 2, 0, -1): # Перебор в обратном порядке с шагом: -1\n",
        "            next_error = numpy.dot(self.weights[layer].T, cur_error)\n",
        "            layer_errors.append(next_error)\n",
        "            cur_error = next_error\n",
        "        layer_errors.reverse()\n",
        "\n",
        "        # Обновить весовые коэффициенты\n",
        "        for layer in range(len(self.num_nodes_in_layers) - 2, -1, -1): # Перебор в обратном порядке с шагом: -1\n",
        "            self.weights[layer] += self.learning_rate * numpy.dot((layer_errors[layer] * list_outputs[layer + 1] * (1.0 - list_outputs[layer + 1])), numpy.transpose(list_outputs[layer]))\n",
        "\n",
        "\n",
        "        return output\n",
        "\n",
        "\n",
        "    def query(self, inputs):\n",
        "        inputs = numpy.array(inputs, ndmin=2).T\n",
        "    \n",
        "        output = inputs\n",
        "        for layer in range(1, len(self.num_nodes_in_layers)):\n",
        "            input = numpy.dot(self.weights[layer - 1], output)\n",
        "            output =  self.activation_function(input)\n",
        "        \n",
        "        return output"
      ]
    },
    {
      "cell_type": "markdown",
      "source": [
        "\n",
        "# Загрузка тренировочной выборки MNIST (60000)"
      ],
      "metadata": {
        "id": "FdJxKgCW0bUW"
      }
    },
    {
      "cell_type": "code",
      "execution_count": 54,
      "metadata": {
        "id": "JqgQAi18bX1u"
      },
      "outputs": [],
      "source": [
        "training_data_file = open(\"/content/drive/MyDrive/mnist_dataset/mnist_train.csv\", 'r')\n",
        "training_data_list = training_data_file.readlines()\n",
        "training_data_file.close()\n",
        "# training_data_list"
      ]
    },
    {
      "cell_type": "markdown",
      "source": [
        "# Параметры сети"
      ],
      "metadata": {
        "id": "4xrS3HIl0giW"
      }
    },
    {
      "cell_type": "code",
      "execution_count": 55,
      "metadata": {
        "id": "QyA5U70cbX1t"
      },
      "outputs": [],
      "source": [
        "NUM_NODES_IN_LAYERS = [784, 200, 10]\n",
        "LEARNING_RATE = 0.1"
      ]
    },
    {
      "cell_type": "markdown",
      "source": [
        "# Тренировка сети"
      ],
      "metadata": {
        "id": "IWXSWj53z9BE"
      }
    },
    {
      "cell_type": "code",
      "execution_count": 56,
      "metadata": {
        "id": "K30RC0rUbX1u",
        "colab": {
          "base_uri": "https://localhost:8080/"
        },
        "outputId": "8a7678bf-ce4f-44a2-a38d-49fb7184bd9e"
      },
      "outputs": [
        {
          "output_type": "stream",
          "name": "stdout",
          "text": [
            "Эффективность =  0.97038\n"
          ]
        }
      ],
      "source": [
        "n = neuralNetwork(NUM_NODES_IN_LAYERS, LEARNING_RATE)\n",
        "epochs = 5\n",
        "\n",
        "scorecard = []\n",
        "\n",
        "for e in range(epochs):\n",
        "    for record in training_data_list:\n",
        "        all_values = record.split(',')\n",
        "        inputs = (numpy.asfarray(all_values[1:]) / 255.0 * 0.99) + 0.01\n",
        "        targets = numpy.zeros(NUM_NODES_IN_LAYERS[len(NUM_NODES_IN_LAYERS) - 1]) + 0.01\n",
        "        targets[int(all_values[0])] = 0.99\n",
        "        outputs = n.train(inputs, targets)\n",
        "        \n",
        "        label = numpy.argmax(outputs)\n",
        "        correct_label = int(all_values[0])\n",
        "        if (label == correct_label):\n",
        "            scorecard.append(1)\n",
        "        else:\n",
        "            scorecard.append(0)\n",
        "\n",
        "scorecard_array = numpy.asarray(scorecard)\n",
        "print(\"Эффективность = \", scorecard_array.sum() / scorecard_array.size)"
      ]
    },
    {
      "cell_type": "markdown",
      "source": [
        "# Загрузка тестовой выборки MNIST (10000)"
      ],
      "metadata": {
        "id": "tiybct6A1lSs"
      }
    },
    {
      "cell_type": "code",
      "source": [
        "test_data_file = open(\"/content/drive/MyDrive/mnist_dataset/mnist_test.csv\", 'r')\n",
        "test_data_list = test_data_file.readlines()\n",
        "test_data_file.close()\n",
        "# test_data_list"
      ],
      "metadata": {
        "id": "Cj1UNnF41qDz"
      },
      "execution_count": 57,
      "outputs": []
    },
    {
      "cell_type": "markdown",
      "source": [
        "# Тестирование сети"
      ],
      "metadata": {
        "id": "HD8dlLp32bk3"
      }
    },
    {
      "cell_type": "code",
      "source": [
        "scorecard = [] # журнал оценок работы сети, первоначально пустой\n",
        "\n",
        "# перебрать все записи в тестовом наборе данных\n",
        "for record in test_data_list:\n",
        "    # print(record)\n",
        "    all_values = record.split(',') # получить список значений из записи, используя символы запятой (',') в качестве разделителей\n",
        "    \n",
        "    # img_array = numpy.asfarray(all_values[1:]).reshape(28, 28)\n",
        "    # matplotlib.pyplot.imshow(img_array, cmap='Greys', interpolation='None')\n",
        "    # matplotlib.pyplot.show()\n",
        "\n",
        "    correct_label = int(all_values[0]) # правильный ответ - первое значение\n",
        "    inputs = (numpy.asfarray(all_values[1:]) / 255.0 * 0.99) + 0.01 # масштабировать и сместить входные значения\n",
        "    outputs = n.query(inputs) # опрос сети\n",
        "    label = numpy.argmax(outputs) # индекс наибольшего значения является маркерным значением\n",
        "    # присоединить оценку ответа сети к концу списка\n",
        "    if (label == correct_label):\n",
        "        scorecard.append(1) # в случае правильного ответа сети присоединить к списку значение 1\n",
        "    else:\n",
        "        scorecard.append(0) # в случае неправильного ответа сети присоединить к списку значение 0\n",
        "\n",
        "# рассчитать показатель эффективности в виде доли правильных ответов\n",
        "scorecard_array = numpy.asarray(scorecard)\n",
        "print(\"Эффективность = \", scorecard_array.sum() / scorecard_array.size)"
      ],
      "metadata": {
        "colab": {
          "base_uri": "https://localhost:8080/"
        },
        "id": "jkSjIVQb8WgQ",
        "outputId": "cdea3a5b-20e6-4c3b-fbf8-7546185eca3e"
      },
      "execution_count": 58,
      "outputs": [
        {
          "output_type": "stream",
          "name": "stdout",
          "text": [
            "Эффективность =  0.9736\n"
          ]
        }
      ]
    },
    {
      "cell_type": "markdown",
      "source": [
        "# Небольшая визуализация"
      ],
      "metadata": {
        "id": "MQsRREL6pqdz"
      }
    },
    {
      "cell_type": "code",
      "source": [
        "my_data = test_data_list[20:30]\n",
        "\n",
        "for record in my_data:\n",
        "    all_values = record.split(',')\n",
        "\n",
        "    img_array = numpy.asfarray(all_values[1:]).reshape(28, 28)\n",
        "    matplotlib.pyplot.imshow(img_array, cmap='Greys', interpolation='None')\n",
        "    matplotlib.pyplot.show()\n",
        "\n",
        "    correct_label = int(all_values[0])\n",
        "    inputs = (numpy.asfarray(all_values[1:]) / 255.0 * 0.99) + 0.01\n",
        "    outputs = n.query(inputs)\n",
        "\n",
        "    i = 0\n",
        "    print(\"Выходные значения:\")\n",
        "    for o in outputs:\n",
        "        print(i, '-', o)\n",
        "        i = i + 1\n",
        "    print(\"NN say: {0}\".format(numpy.argmax(outputs)))"
      ],
      "metadata": {
        "id": "dpVaPI5PF9pR",
        "colab": {
          "base_uri": "https://localhost:8080/",
          "height": 0
        },
        "outputId": "fd49f159-65e0-4487-8a15-942b721ac0dc"
      },
      "execution_count": 59,
      "outputs": [
        {
          "output_type": "display_data",
          "data": {
            "text/plain": [
              "<Figure size 432x288 with 1 Axes>"
            ],
            "image/png": "[encoded data removed]"
          },
          "metadata": {
            "needs_background": "light"
          }
        },
        {
          "output_type": "stream",
          "name": "stdout",
          "text": [
            "Выходные значения:\n",
            "0 - [0.00888193]\n",
            "1 - [0.00048202]\n",
            "2 - [0.00045069]\n",
            "3 - [0.04154117]\n",
            "4 - [0.01155164]\n",
            "5 - [0.00094686]\n",
            "6 - [0.00089413]\n",
            "7 - [0.04603872]\n",
            "8 - [0.0040922]\n",
            "9 - [0.96787241]\n",
            "NN say: 9\n"
          ]
        },
        {
          "output_type": "display_data",
          "data": {
            "text/plain": [
              "<Figure size 432x288 with 1 Axes>"
            ],
            "image/png": "[encoded data removed]"
          },
          "metadata": {
            "needs_background": "light"
          }
        },
        {
          "output_type": "stream",
          "name": "stdout",
          "text": [
            "Выходные значения:\n",
            "0 - [0.01496932]\n",
            "1 - [0.00246902]\n",
            "2 - [0.00129559]\n",
            "3 - [0.00180054]\n",
            "4 - [0.01264437]\n",
            "5 - [0.01633607]\n",
            "6 - [0.97796686]\n",
            "7 - [0.00147604]\n",
            "8 - [0.00597178]\n",
            "9 - [0.00442973]\n",
            "NN say: 6\n"
          ]
        },
        {
          "output_type": "display_data",
          "data": {
            "text/plain": [
              "<Figure size 432x288 with 1 Axes>"
            ],
            "image/png": "[encoded data removed]"
          },
          "metadata": {
            "needs_background": "light"
          }
        },
        {
          "output_type": "stream",
          "name": "stdout",
          "text": [
            "Выходные значения:\n",
            "0 - [0.00826618]\n",
            "1 - [0.00643401]\n",
            "2 - [0.00930899]\n",
            "3 - [0.00058842]\n",
            "4 - [0.01870378]\n",
            "5 - [0.01564439]\n",
            "6 - [0.99721972]\n",
            "7 - [0.00679085]\n",
            "8 - [0.00357119]\n",
            "9 - [0.00211105]\n",
            "NN say: 6\n"
          ]
        },
        {
          "output_type": "display_data",
          "data": {
            "text/plain": [
              "<Figure size 432x288 with 1 Axes>"
            ],
            "image/png": "[encoded data removed]"
          },
          "metadata": {
            "needs_background": "light"
          }
        },
        {
          "output_type": "stream",
          "name": "stdout",
          "text": [
            "Выходные значения:\n",
            "0 - [0.0010411]\n",
            "1 - [0.00281773]\n",
            "2 - [0.00079022]\n",
            "3 - [0.00078116]\n",
            "4 - [0.00186346]\n",
            "5 - [0.99994997]\n",
            "6 - [0.00337873]\n",
            "7 - [0.00096983]\n",
            "8 - [1.86624242e-05]\n",
            "9 - [0.00371812]\n",
            "NN say: 5\n"
          ]
        },
        {
          "output_type": "display_data",
          "data": {
            "text/plain": [
              "<Figure size 432x288 with 1 Axes>"
            ],
            "image/png": "[encoded data removed]"
          },
          "metadata": {
            "needs_background": "light"
          }
        },
        {
          "output_type": "stream",
          "name": "stdout",
          "text": [
            "Выходные значения:\n",
            "0 - [0.00330898]\n",
            "1 - [0.00171064]\n",
            "2 - [0.01052303]\n",
            "3 - [0.00099026]\n",
            "4 - [0.99191039]\n",
            "5 - [0.00376391]\n",
            "6 - [0.00119922]\n",
            "7 - [0.00355377]\n",
            "8 - [5.27544624e-05]\n",
            "9 - [0.00611259]\n",
            "NN say: 4\n"
          ]
        },
        {
          "output_type": "display_data",
          "data": {
            "text/plain": [
              "<Figure size 432x288 with 1 Axes>"
            ],
            "image/png": "[encoded data removed]"
          },
          "metadata": {
            "needs_background": "light"
          }
        },
        {
          "output_type": "stream",
          "name": "stdout",
          "text": [
            "Выходные значения:\n",
            "0 - [0.99911387]\n",
            "1 - [0.00477687]\n",
            "2 - [0.00066488]\n",
            "3 - [0.00094613]\n",
            "4 - [0.00724378]\n",
            "5 - [0.00166784]\n",
            "6 - [0.00617216]\n",
            "7 - [0.00920225]\n",
            "8 - [0.00390581]\n",
            "9 - [0.00403198]\n",
            "NN say: 0\n"
          ]
        },
        {
          "output_type": "display_data",
          "data": {
            "text/plain": [
              "<Figure size 432x288 with 1 Axes>"
            ],
            "image/png": "[encoded data removed]"
          },
          "metadata": {
            "needs_background": "light"
          }
        },
        {
          "output_type": "stream",
          "name": "stdout",
          "text": [
            "Выходные значения:\n",
            "0 - [0.00161585]\n",
            "1 - [0.00553463]\n",
            "2 - [0.00447219]\n",
            "3 - [0.00076533]\n",
            "4 - [0.00142076]\n",
            "5 - [0.01299237]\n",
            "6 - [0.00033595]\n",
            "7 - [0.9913359]\n",
            "8 - [8.08426695e-05]\n",
            "9 - [0.01149329]\n",
            "NN say: 7\n"
          ]
        },
        {
          "output_type": "display_data",
          "data": {
            "text/plain": [
              "<Figure size 432x288 with 1 Axes>"
            ],
            "image/png": "[encoded data removed]"
          },
          "metadata": {
            "needs_background": "light"
          }
        },
        {
          "output_type": "stream",
          "name": "stdout",
          "text": [
            "Выходные значения:\n",
            "0 - [0.00285972]\n",
            "1 - [0.00067313]\n",
            "2 - [0.00333719]\n",
            "3 - [0.00235204]\n",
            "4 - [0.99963373]\n",
            "5 - [0.00444894]\n",
            "6 - [0.00069923]\n",
            "7 - [0.00120594]\n",
            "8 - [0.00010054]\n",
            "9 - [0.00168891]\n",
            "NN say: 4\n"
          ]
        },
        {
          "output_type": "display_data",
          "data": {
            "text/plain": [
              "<Figure size 432x288 with 1 Axes>"
            ],
            "image/png": "[encoded data removed]"
          },
          "metadata": {
            "needs_background": "light"
          }
        },
        {
          "output_type": "stream",
          "name": "stdout",
          "text": [
            "Выходные значения:\n",
            "0 - [0.99969384]\n",
            "1 - [0.01141031]\n",
            "2 - [0.02232398]\n",
            "3 - [0.00038515]\n",
            "4 - [0.00302844]\n",
            "5 - [0.00194222]\n",
            "6 - [0.0014052]\n",
            "7 - [0.00321662]\n",
            "8 - [0.00012815]\n",
            "9 - [0.00166863]\n",
            "NN say: 0\n"
          ]
        },
        {
          "output_type": "display_data",
          "data": {
            "text/plain": [
              "<Figure size 432x288 with 1 Axes>"
            ],
            "image/png": "[encoded data removed]"
          },
          "metadata": {
            "needs_background": "light"
          }
        },
        {
          "output_type": "stream",
          "name": "stdout",
          "text": [
            "Выходные значения:\n",
            "0 - [0.00689076]\n",
            "1 - [0.99340706]\n",
            "2 - [0.00634484]\n",
            "3 - [0.01258651]\n",
            "4 - [0.01944788]\n",
            "5 - [0.0021646]\n",
            "6 - [0.00314056]\n",
            "7 - [0.00773128]\n",
            "8 - [0.00210533]\n",
            "9 - [0.00490794]\n",
            "NN say: 1\n"
          ]
        }
      ]
    },
    {
      "cell_type": "markdown",
      "source": [
        "# Конвертирование PNG в CSV (с маркерным значением цифры на первом месте = формат MNIST)"
      ],
      "metadata": {
        "id": "AUqTLXxUyjyO"
      }
    },
    {
      "cell_type": "code",
      "source": [
        "import cv2, csv\n",
        "\n",
        "file_ =  open('/content/drive/MyDrive/digits/my_mnist.csv', 'w')\n",
        "writer = csv.writer(file_, delimiter=',')\n",
        "\n",
        "for image_file_name in sorted(glob.glob('/content/drive/MyDrive/digits/?.png')):\n",
        "    newline = []\n",
        "\n",
        "    label = image_file_name[-5:-4]\n",
        "    newline.append(label)\n",
        "\n",
        "    img = cv2.imread(image_file_name, 0)\n",
        "    for x in range(img.shape[0]):\n",
        "        for y in range(img.shape[1]):\n",
        "            newline.append(img[x, y])\n",
        "\n",
        "    writer.writerow(newline)\n",
        "\n",
        "file_.close()"
      ],
      "metadata": {
        "id": "ID9m6T4rYkID"
      },
      "execution_count": 66,
      "outputs": []
    },
    {
      "cell_type": "markdown",
      "source": [
        "# Загрузка рукописных цифр в формате MNIST"
      ],
      "metadata": {
        "id": "j3nC2K10PjW9"
      }
    },
    {
      "cell_type": "code",
      "execution_count": 67,
      "metadata": {
        "id": "nxsxBs4jbX1u"
      },
      "outputs": [],
      "source": [
        "my_data_file = open('/content/drive/MyDrive/digits/my_mnist.csv', 'r')\n",
        "my_data_list = my_data_file.readlines()\n",
        "my_data_file.close()\n",
        "# my_data_file"
      ]
    },
    {
      "cell_type": "markdown",
      "source": [
        "# Тестирование сети на рукописном наборе цифр"
      ],
      "metadata": {
        "id": "w5Z193GLPnej"
      }
    },
    {
      "cell_type": "code",
      "source": [
        "scorecard = []\n",
        "\n",
        "for record in my_data_list:\n",
        "    all_values = record.split(',') # получить список значений из записи, используя символы запятой (',') в качестве разделителей\n",
        "    \n",
        "    img_array = numpy.asfarray(all_values[1:]).reshape(28, 28)\n",
        "    matplotlib.pyplot.imshow(img_array, cmap='Greys', interpolation='None')\n",
        "    matplotlib.pyplot.show()\n",
        "\n",
        "    correct_label = int(all_values[0]) # правильный ответ - первое значение\n",
        "    inputs = (numpy.asfarray(all_values[1:]) / 255.0 * 0.99) + 0.01 # масштабировать и сместить входные значения\n",
        "    outputs = n.query(inputs) # опрос сети\n",
        "\n",
        "    i = 0\n",
        "    print(\"Выходные значения нейронной сети:\")\n",
        "    for o in outputs:\n",
        "        print(i, '-', o)\n",
        "        i = i + 1\n",
        "\n",
        "    label = numpy.argmax(outputs)\n",
        "    print(\"Ответ нейросети: \", label)\n",
        "\n",
        "    # присоединить оценку ответа сети к концу списка\n",
        "    if (label == correct_label):\n",
        "        scorecard.append(1) # в случае правильного ответа сети присоединить к списку значение 1\n",
        "    else:\n",
        "        scorecard.append(0) # в случае неправильного ответа сети присоединить к списку значение 0\n",
        "\n",
        "# рассчитать показатель эффективности в виде доли правильных ответов\n",
        "scorecard_array = numpy.asarray(scorecard)\n",
        "print(\"Эффективность = \", scorecard_array.sum() / scorecard_array.size)"
      ],
      "metadata": {
        "colab": {
          "base_uri": "https://localhost:8080/",
          "height": 0
        },
        "id": "m3978w54qtnR",
        "outputId": "faec0206-26da-4614-b530-a2164ca42476"
      },
      "execution_count": 68,
      "outputs": [
        {
          "output_type": "display_data",
          "data": {
            "text/plain": [
              "<Figure size 432x288 with 1 Axes>"
            ],
            "image/png": "[encoded data removed]"
          },
          "metadata": {
            "needs_background": "light"
          }
        },
        {
          "output_type": "stream",
          "name": "stdout",
          "text": [
            "Выходные значения нейронной сети:\n",
            "0 - [0.99830835]\n",
            "1 - [0.00574372]\n",
            "2 - [0.00048608]\n",
            "3 - [0.00209002]\n",
            "4 - [0.00951404]\n",
            "5 - [0.0063705]\n",
            "6 - [0.02591778]\n",
            "7 - [0.00296584]\n",
            "8 - [0.00866229]\n",
            "9 - [0.00809864]\n",
            "Ответ нейросети:  0\n"
          ]
        },
        {
          "output_type": "display_data",
          "data": {
            "text/plain": [
              "<Figure size 432x288 with 1 Axes>"
            ],
            "image/png": "[encoded data removed]"
          },
          "metadata": {
            "needs_background": "light"
          }
        },
        {
          "output_type": "stream",
          "name": "stdout",
          "text": [
            "Выходные значения нейронной сети:\n",
            "0 - [0.00801562]\n",
            "1 - [0.11032724]\n",
            "2 - [0.01711864]\n",
            "3 - [0.01571046]\n",
            "4 - [0.00174341]\n",
            "5 - [0.00475248]\n",
            "6 - [0.00923077]\n",
            "7 - [0.0139648]\n",
            "8 - [0.41326567]\n",
            "9 - [0.081341]\n",
            "Ответ нейросети:  8\n"
          ]
        },
        {
          "output_type": "display_data",
          "data": {
            "text/plain": [
              "<Figure size 432x288 with 1 Axes>"
            ],
            "image/png": "[encoded data removed]"
          },
          "metadata": {
            "needs_background": "light"
          }
        },
        {
          "output_type": "stream",
          "name": "stdout",
          "text": [
            "Выходные значения нейронной сети:\n",
            "0 - [0.00887148]\n",
            "1 - [0.01261357]\n",
            "2 - [0.12424841]\n",
            "3 - [0.45548135]\n",
            "4 - [0.00371113]\n",
            "5 - [0.08497527]\n",
            "6 - [0.02940087]\n",
            "7 - [0.00397513]\n",
            "8 - [0.02232169]\n",
            "9 - [0.01938029]\n",
            "Ответ нейросети:  3\n"
          ]
        },
        {
          "output_type": "display_data",
          "data": {
            "text/plain": [
              "<Figure size 432x288 with 1 Axes>"
            ],
            "image/png": "[encoded data removed]"
          },
          "metadata": {
            "needs_background": "light"
          }
        },
        {
          "output_type": "stream",
          "name": "stdout",
          "text": [
            "Выходные значения нейронной сети:\n",
            "0 - [0.00319577]\n",
            "1 - [0.00580769]\n",
            "2 - [0.00245416]\n",
            "3 - [0.99160397]\n",
            "4 - [0.01966545]\n",
            "5 - [0.00190353]\n",
            "6 - [0.00257684]\n",
            "7 - [0.00618347]\n",
            "8 - [0.00106934]\n",
            "9 - [0.02976721]\n",
            "Ответ нейросети:  3\n"
          ]
        },
        {
          "output_type": "display_data",
          "data": {
            "text/plain": [
              "<Figure size 432x288 with 1 Axes>"
            ],
            "image/png": "[encoded data removed]"
          },
          "metadata": {
            "needs_background": "light"
          }
        },
        {
          "output_type": "stream",
          "name": "stdout",
          "text": [
            "Выходные значения нейронной сети:\n",
            "0 - [0.01042515]\n",
            "1 - [0.0546203]\n",
            "2 - [5.07179201e-05]\n",
            "3 - [0.00098864]\n",
            "4 - [0.93944894]\n",
            "5 - [0.00886248]\n",
            "6 - [0.00916011]\n",
            "7 - [0.16013976]\n",
            "8 - [0.0028395]\n",
            "9 - [0.01389219]\n",
            "Ответ нейросети:  4\n"
          ]
        },
        {
          "output_type": "display_data",
          "data": {
            "text/plain": [
              "<Figure size 432x288 with 1 Axes>"
            ],
            "image/png": "[encoded data removed]"
          },
          "metadata": {
            "needs_background": "light"
          }
        },
        {
          "output_type": "stream",
          "name": "stdout",
          "text": [
            "Выходные значения нейронной сети:\n",
            "0 - [0.05623531]\n",
            "1 - [0.00711478]\n",
            "2 - [0.00658402]\n",
            "3 - [0.02706993]\n",
            "4 - [0.00535286]\n",
            "5 - [0.91681273]\n",
            "6 - [0.00797896]\n",
            "7 - [0.00169586]\n",
            "8 - [0.0029011]\n",
            "9 - [0.01499984]\n",
            "Ответ нейросети:  5\n"
          ]
        },
        {
          "output_type": "display_data",
          "data": {
            "text/plain": [
              "<Figure size 432x288 with 1 Axes>"
            ],
            "image/png": "[encoded data removed]"
          },
          "metadata": {
            "needs_background": "light"
          }
        },
        {
          "output_type": "stream",
          "name": "stdout",
          "text": [
            "Выходные значения нейронной сети:\n",
            "0 - [0.00276499]\n",
            "1 - [0.00305486]\n",
            "2 - [0.00609622]\n",
            "3 - [0.01571719]\n",
            "4 - [0.00986991]\n",
            "5 - [0.11228438]\n",
            "6 - [0.19869666]\n",
            "7 - [0.00191101]\n",
            "8 - [0.50462722]\n",
            "9 - [0.47420176]\n",
            "Ответ нейросети:  8\n"
          ]
        },
        {
          "output_type": "display_data",
          "data": {
            "text/plain": [
              "<Figure size 432x288 with 1 Axes>"
            ],
            "image/png": "[encoded data removed]"
          },
          "metadata": {
            "needs_background": "light"
          }
        },
        {
          "output_type": "stream",
          "name": "stdout",
          "text": [
            "Выходные значения нейронной сети:\n",
            "0 - [0.01481879]\n",
            "1 - [0.00286219]\n",
            "2 - [0.91004991]\n",
            "3 - [0.07410671]\n",
            "4 - [0.00649584]\n",
            "5 - [0.006378]\n",
            "6 - [0.04502217]\n",
            "7 - [0.03738912]\n",
            "8 - [0.00930695]\n",
            "9 - [0.00236003]\n",
            "Ответ нейросети:  2\n"
          ]
        },
        {
          "output_type": "display_data",
          "data": {
            "text/plain": [
              "<Figure size 432x288 with 1 Axes>"
            ],
            "image/png": "[encoded data removed]"
          },
          "metadata": {
            "needs_background": "light"
          }
        },
        {
          "output_type": "stream",
          "name": "stdout",
          "text": [
            "Выходные значения нейронной сети:\n",
            "0 - [0.06286634]\n",
            "1 - [0.00047688]\n",
            "2 - [0.07835768]\n",
            "3 - [0.20056913]\n",
            "4 - [0.01723092]\n",
            "5 - [0.0363686]\n",
            "6 - [0.0226463]\n",
            "7 - [0.00243921]\n",
            "8 - [0.59545006]\n",
            "9 - [0.05715883]\n",
            "Ответ нейросети:  8\n"
          ]
        },
        {
          "output_type": "display_data",
          "data": {
            "text/plain": [
              "<Figure size 432x288 with 1 Axes>"
            ],
            "image/png": "[encoded data removed]"
          },
          "metadata": {
            "needs_background": "light"
          }
        },
        {
          "output_type": "stream",
          "name": "stdout",
          "text": [
            "Выходные значения нейронной сети:\n",
            "0 - [0.01316196]\n",
            "1 - [0.00237654]\n",
            "2 - [0.00411443]\n",
            "3 - [0.26260847]\n",
            "4 - [0.01069386]\n",
            "5 - [0.02338238]\n",
            "6 - [0.03112144]\n",
            "7 - [0.00139897]\n",
            "8 - [0.23235442]\n",
            "9 - [0.17811405]\n",
            "Ответ нейросети:  3\n",
            "Эффективность =  0.5\n"
          ]
        }
      ]
    }
  ],
  "metadata": {
    "kernelspec": {
      "display_name": "Python 3",
      "language": "python",
      "name": "python3"
    },
    "language_info": {
      "codemirror_mode": {
        "name": "ipython",
        "version": 3
      },
      "file_extension": ".py",
      "mimetype": "text/x-python",
      "name": "python",
      "nbconvert_exporter": "python",
      "pygments_lexer": "ipython3",
      "version": "3.6.5"
    },
    "colab": {
      "provenance": [],
      "collapsed_sections": [
        "L9GH4HCUSqyY",
        "EflEqsyaSpEm",
        "FdJxKgCW0bUW",
        "4xrS3HIl0giW",
        "IWXSWj53z9BE",
        "tiybct6A1lSs",
        "HD8dlLp32bk3",
        "MQsRREL6pqdz",
        "AUqTLXxUyjyO",
        "j3nC2K10PjW9",
        "w5Z193GLPnej"
      ]
    }
  },
  "nbformat": 4,
  "nbformat_minor": 0
}